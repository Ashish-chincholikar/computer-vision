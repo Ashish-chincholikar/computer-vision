{
 "cells": [
  {
   "cell_type": "code",
   "execution_count": 1,
   "metadata": {},
   "outputs": [],
   "source": [
    "import cv2 \n",
    "\n",
    "cap = cv2.VideoCapture(0) \n",
    "\n",
    "#Automatically grab width and height from video feed \n",
    "#(returns float which we need to convert to integer for letter on!) \n",
    "width = int(cap.get(cv2.CAP_PROP_FRAME_WIDTH))\n",
    "height = int(cap.get(cv2.CAP_PROP_FRAME_HEIGHT)) \n",
    "\n",
    "x = width//2 \n",
    "y = height//2 \n",
    "\n",
    "#Width and height adding 1/4th of the width and height from the centre \n",
    "w = width//4 \n",
    "h = height//4 \n",
    "\n",
    "while True: \n",
    "    #Capture frame-by-frame \n",
    "    ret, frame = cap.read() \n",
    "    \n",
    "    #Draw rectangle on stream \n",
    "    cv2.rectangle(frame,(x,y),(x+w,y+w),color = (0,0,255),thickness=4)\n",
    "    \n",
    "    #Display the resulting frame \n",
    "    cv2.imshow('frame',frame)\n",
    "    \n",
    "    #this command let's us quit with the \"q\" butttom on a keyboard \n",
    "    #Simply pressing X on the window won't work \n",
    "    if cv2.waitKey(1) & 0xFF == ord('q'):\n",
    "        break \n",
    "        \n",
    "#Whern everythin is done, release the capture \n",
    "cap.release() \n",
    "cv2.destroyAllWindows()"
   ]
  },
  {
   "cell_type": "markdown",
   "metadata": {},
   "source": [
    "# Interactive drawing on video \n"
   ]
  },
  {
   "cell_type": "code",
   "execution_count": 1,
   "metadata": {},
   "outputs": [],
   "source": [
    "import cv2 \n",
    "import numpy as np "
   ]
  },
  {
   "cell_type": "code",
   "execution_count": 2,
   "metadata": {},
   "outputs": [],
   "source": [
    "# Create a function based on a CV2 Event(Left button click) \n",
    "#Havent drawn anything yet \n",
    "\n",
    "pt1 = (0,0)\n",
    "pt2 = (0,0) \n",
    "topLeft_clicked = False \n",
    "botRight_clicked = False \n",
    "\n",
    "#mouse call back function =, this is resetting the rectangle \n",
    "\n",
    "\"\"\"\n",
    "This function is triggered whenever a mouse event occurs in the specified\n",
    "\n",
    "window. It checks if the left mouse button is clicked (cv2.EVENT_LBUTTONDOWN If both corners have already been clicked, it resets the rectangle.\n",
    "\n",
    "15 If the top-left corner hasn't been clicked yet,\n",
    "\n",
    "16 it sets pti to the current mouse position and sets topleft_clicked to True.\n",
    "\n",
    "17 If the bottom-right corner hasn't been clicked yet,\n",
    "\n",
    "18 it sets pt2 to the current mouse position and sets botRight_clicked to True.\n",
    "\"\"\"\n",
    "\n",
    "def draw_rectangle(event,x,y,flags,param): \n",
    "    global pt1, pt2, topLeft_clicked,botRight_clicked \n",
    "    \n",
    "    #get mouse click \n",
    "    if event == cv2.EVENT_LBUTTONDOWN: \n",
    "        if topLeft_clicked == True and botRight_clicked == True: \n",
    "            topLeft_clicked = False \n",
    "            botRight_clicked = False \n",
    "            pt1 = (0,0)\n",
    "            pt2 = (0,0) \n",
    "        if topLeft_clicked == False: \n",
    "            pt1 = (x,y) \n",
    "            topLeft_clicked = True \n",
    "        elif botRight_clicked == False: \n",
    "            pt2 = (x,y)\n",
    "            botRight_clicked = True\n",
    "'''\n",
    "Checking if topleft_clicked is False:\n",
    "This check is to see if the user has already clicked to set the top-left\n",
    "corner of the rectangle.\n",
    "If topleft clicked False, it means the top-left corner has not been\n",
    "set yet.\n",
    "Setting the first point (pt1) and marking topleft_clicked as True:\n",
    "pt1 (x, y) assigns the coordinates of the first click\n",
    "(where the user clicks on the screen) to pt1, which represents the top-left c\n",
    "topLeft clicked True updates the flag to indicate that the top-left cor\n",
    "Checking if botRight_clicked is False:\n",
    "'''\n",
    "cap = cv2.VideoCapture(0) \n",
    "\n",
    "#Create a named window for connections \n",
    "cv2.namedWindow('Test') \n",
    "\n",
    "#Bind draw rectangle function to mouse clicks \n",
    "cv2.setMouseCallback('Test', draw_rectangle) \n",
    "\n",
    "'''\n",
    "Following loop continuously captures frames from the webcam. If topleft_clicked is True, a small red circle is drawn at pt1. If both topleft_clicked and botRight_clicked are True, a red rectangle is drawn between pt1 and pt2. the loop and close the window.\n",
    "\n",
    "cv2.imshow('Test', frame) displays the video frame in the \"Test\" window. cv2.waitKey(1) & 0xFF ord('q') checks for the 'q' key press to exit\n",
    "'''\n",
    "while True: \n",
    "    #Capture frame-by-frame \n",
    "    ret, frame = cap.read() \n",
    "    \n",
    "    #Draw rectangle on stream \n",
    "    if topLeft_clicked:\n",
    "        cv2.circle(frame,center=pt1,radius=5,color = (0,0,255),thickness=-1)\n",
    "    \n",
    "    #Draw rectangle on stream \n",
    "    if topLeft_clicked and botRight_clicked:\n",
    "        cv2.rectangle(frame,pt1,pt2,(0,0,255),2)\n",
    "    \n",
    "    #Display the resulting frame \n",
    "    cv2.imshow('Test',frame)\n",
    "    \n",
    "    #this command let's us quit with the \"q\" butttom on a keyboard \n",
    "    #Simply pressing X on the window won't work \n",
    "    if cv2.waitKey(1) & 0xFF == ord('q'):\n",
    "        break\n",
    "#Whern everythin is done, release the capture \n",
    "cap.release() \n",
    "cv2.destroyAllWindows()"
   ]
  },
  {
   "cell_type": "code",
   "execution_count": null,
   "metadata": {},
   "outputs": [],
   "source": []
  }
 ],
 "metadata": {
  "kernelspec": {
   "display_name": "Python 3",
   "language": "python",
   "name": "python3"
  },
  "language_info": {
   "codemirror_mode": {
    "name": "ipython",
    "version": 3
   },
   "file_extension": ".py",
   "mimetype": "text/x-python",
   "name": "python",
   "nbconvert_exporter": "python",
   "pygments_lexer": "ipython3",
   "version": "3.6.6"
  },
  "varInspector": {
   "cols": {
    "lenName": 16,
    "lenType": 16,
    "lenVar": 40
   },
   "kernels_config": {
    "python": {
     "delete_cmd_postfix": "",
     "delete_cmd_prefix": "del ",
     "library": "var_list.py",
     "varRefreshCmd": "print(var_dic_list())"
    },
    "r": {
     "delete_cmd_postfix": ") ",
     "delete_cmd_prefix": "rm(",
     "library": "var_list.r",
     "varRefreshCmd": "cat(var_dic_list()) "
    }
   },
   "types_to_exclude": [
    "module",
    "function",
    "builtin_function_or_method",
    "instance",
    "_Feature"
   ],
   "window_display": false
  }
 },
 "nbformat": 4,
 "nbformat_minor": 2
}
