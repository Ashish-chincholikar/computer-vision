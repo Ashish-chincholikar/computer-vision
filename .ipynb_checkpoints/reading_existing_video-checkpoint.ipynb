{
 "cells": [
  {
   "cell_type": "code",
   "execution_count": null,
   "metadata": {},
   "outputs": [],
   "source": [
    "import cv2 \n",
    "import time \n",
    "#Same command function as streaming, its just now we pass in the file path, allowing us to read video frames from the specified file instead of a live camera feed.\n",
    "cap = cv2.VideoCapture('student_capture.mp4')\n",
    "\n",
    "#FRAMES PER second for video\n",
    "fps = 25\n",
    "\n",
    "#Always a good idea to check if the video was actually there \n",
    "#If you get an error at this step, triple check your file path!! \n",
    "\n",
    "if cap.isOpened() == False:\n",
    "    print(\"Error opening the video file. Pleaase double check your file path from \")\n",
    "#While the video is opened\n",
    "while cap.isOpened(): \n",
    "    #Read the video file\n",
    "    ret, frame = cap.read() \n",
    "    \n",
    "    #Display the frame at same frame rate of recording \n",
    "    time.sleep(1/fps) \n",
    "\n",
    "    cv2.imshow('frame', frame) \n",
    "        \n",
    "    #Press q to quit \n",
    "    if cv2.waitKey(25) & 0xFF == ord('q'):\n",
    "        break \n",
    "        "
   ]
  }
 ],
 "metadata": {
  "kernelspec": {
   "display_name": "Python 3",
   "language": "python",
   "name": "python3"
  },
  "varInspector": {
   "cols": {
    "lenName": 16,
    "lenType": 16,
    "lenVar": 40
   },
   "kernels_config": {
    "python": {
     "delete_cmd_postfix": "",
     "delete_cmd_prefix": "del ",
     "library": "var_list.py",
     "varRefreshCmd": "print(var_dic_list())"
    },
    "r": {
     "delete_cmd_postfix": ") ",
     "delete_cmd_prefix": "rm(",
     "library": "var_list.r",
     "varRefreshCmd": "cat(var_dic_list()) "
    }
   },
   "types_to_exclude": [
    "module",
    "function",
    "builtin_function_or_method",
    "instance",
    "_Feature"
   ],
   "window_display": false
  }
 },
 "nbformat": 4,
 "nbformat_minor": 2
}
