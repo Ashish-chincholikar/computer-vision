{
 "cells": [
  {
   "cell_type": "markdown",
   "metadata": {},
   "source": [
    "OpenCV Connecting to a USB Camera or a Laptop Camera\n",
    "\n",
    "OpenCV can automatically connect to your laptop's built in camera or your USB camera if you've installed that specific USB camera drivers. Please keep in mind, its almost impossible for us to help troubleshoot this sort of physical connection on our end, so if you are not able to connect, please check out the troubleshooting tips here:\n",
    "\n",
    "https://github.com/opencv/opencv/issues/8471 \n",
    "\n",
    "## Note:- Always restart the kernel as the camera remains accessed"
   ]
  },
  {
   "cell_type": "code",
   "execution_count": null,
   "metadata": {},
   "outputs": [],
   "source": [
    "## Put this all in one cell! \n",
    "import cv2\n",
    "#Connects to your computer's default camera \n",
    "cap = cv2.VideoCapture(0) \n",
    "#Automatically grab width and height from video feed \n",
    "#(returns float which we need to convert to integer for later on!) \n",
    "width = int(cap.get(cv2.CAP_PROP_FRAME_WIDTH))\n",
    "height = int(cap.get(cv2.CAP_PROP_FRAME_HEIGHT)) \n",
    "\n",
    "while True: \n",
    "    #capture frame by frame \n",
    "    ret , frame = cap.read()\n",
    "    \n",
    "    #Now our operation on the Feed \n",
    "    gray = cv2.cvtColor(frame,cv2.COLOR_BGR2GRAY)\n",
    "    \n",
    "    #Display the resulting frame \n",
    "    cv2.imshow('frame',gray) \n",
    "    \n",
    "    # This command let's us quit with \"q\" button on a keyboard \n",
    "    # Simply pressing X on the window won't work!\n",
    "    \n",
    "    if cv2.waitKey(1) & 0xFF == ord('q'): \n",
    "        break \n",
    "        \n",
    "\n",
    "#When evverything is done, release the capture and destroy the windows\n",
    "cap.release()\n",
    "cv2.destroyAllWindows()"
   ]
  },
  {
   "cell_type": "code",
   "execution_count": null,
   "metadata": {},
   "outputs": [],
   "source": [
    "## Put this all in one cell! \n",
    "import cv2\n",
    "#Connects to your computer's default camera \n",
    "cap = cv2.VideoCapture(0) \n",
    "#Automatically grab width and height from video feed \n",
    "#(returns float which we need to convert to integer for later on!) \n",
    "width = int(cap.get(cv2.CAP_PROP_FRAME_WIDTH))\n",
    "height = int(cap.get(cv2.CAP_PROP_FRAME_HEIGHT)) \n",
    "\n",
    "while True: \n",
    "    #capture frame by frame \n",
    "    ret , frame = cap.read()\n",
    "    \n",
    "    #Now our operation on the Feed \n",
    "    #gray = cv2.cvtColor(frame,cv2.COLOR_BGR2GRAY)\n",
    "    \n",
    "    #Display the resulting frame \n",
    "    cv2.imshow('frame',frame) \n",
    "    \n",
    "    # This command let's us quit with \"q\" button on a keyboard \n",
    "    # Simply pressing X on the window won't work!\n",
    "    \n",
    "    if cv2.waitKey(1) & 0xFF == ord('q'): \n",
    "        break \n",
    "        \n",
    "\n",
    "#When evverything is done, release the capture and destroy the windows\n",
    "cap.release()\n",
    "cv2.destroyAllWindows()"
   ]
  },
  {
   "cell_type": "markdown",
   "metadata": {},
   "source": [
    "## Writing Video to storage"
   ]
  },
  {
   "cell_type": "code",
   "execution_count": 1,
   "metadata": {},
   "outputs": [],
   "source": [
    "import cv2 \n",
    "cap = cv2.VideoCapture(0) \n",
    "\n",
    "#Automatically grab width and height from video feed \n",
    "#(returns float which we need to convert to integer for later on!) \n",
    "width = int(cap.get(cv2.CAP_PROP_FRAME_WIDTH))\n",
    "height = int(cap.get(cv2.CAP_PROP_FRAME_HEIGHT))\n",
    "\n",
    "#Windows : *'VIDX' \n",
    "#MACOS or Linus : *'XVID'\n",
    "\n",
    "writer = cv2.VideoWriter('student_capture.mp4',cv2.VideoWriter_fourcc(*'VIDX'),25,(width, height)) \n",
    "#25 is the number of frames for that video\n",
    "\n",
    "while True: \n",
    "    #capture frame by frame \n",
    "    ret , frame = cap.read()\n",
    "    \n",
    "    #Write the video \n",
    "    writer.write(frame)\n",
    "    \n",
    "    #Display the resulting frame \n",
    "    cv2.imshow('frame',frame) \n",
    "    \n",
    "    # This command let's us quit with \"q\" button on a keyboard \n",
    "    # Simply pressing X on the window won't work!\n",
    "    \n",
    "    if cv2.waitKey(1) & 0xFF == ord('q'): \n",
    "        break \n",
    "\n",
    "#When evverything is done, release the capture and destroy the windows\n",
    "cap.release()\n",
    "writer.release()\n",
    "cv2.destroyAllWindows()       "
   ]
  },
  {
   "cell_type": "code",
   "execution_count": null,
   "metadata": {},
   "outputs": [],
   "source": []
  }
 ],
 "metadata": {
  "kernelspec": {
   "display_name": "Python 3",
   "language": "python",
   "name": "python3"
  },
  "language_info": {
   "codemirror_mode": {
    "name": "ipython",
    "version": 3
   },
   "file_extension": ".py",
   "mimetype": "text/x-python",
   "name": "python",
   "nbconvert_exporter": "python",
   "pygments_lexer": "ipython3",
   "version": "3.6.6"
  },
  "varInspector": {
   "cols": {
    "lenName": 16,
    "lenType": 16,
    "lenVar": 40
   },
   "kernels_config": {
    "python": {
     "delete_cmd_postfix": "",
     "delete_cmd_prefix": "del ",
     "library": "var_list.py",
     "varRefreshCmd": "print(var_dic_list())"
    },
    "r": {
     "delete_cmd_postfix": ") ",
     "delete_cmd_prefix": "rm(",
     "library": "var_list.r",
     "varRefreshCmd": "cat(var_dic_list()) "
    }
   },
   "types_to_exclude": [
    "module",
    "function",
    "builtin_function_or_method",
    "instance",
    "_Feature"
   ],
   "window_display": false
  }
 },
 "nbformat": 4,
 "nbformat_minor": 2
}
