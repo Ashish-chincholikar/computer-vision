{
 "cells": [
  {
   "cell_type": "code",
   "execution_count": 1,
   "metadata": {},
   "outputs": [],
   "source": [
    "import cv2 \n",
    "import time \n",
    "\n",
    "# Same command function as streaming, it's just now we pass in the file path, \n",
    "# allowing us to read video frames from the specified file instead of a live camera feed.\n",
    "cap = cv2.VideoCapture('C:/Artificial Intelligence/1_Computer Vision/student_capture.mp4')\n",
    "\n",
    "# Frames per second for video\n",
    "fps = 25\n",
    "\n",
    "# Always a good idea to check if the video was actually there \n",
    "# If you get an error at this step, triple check your file path!! \n",
    "if not cap.isOpened():\n",
    "    print(\"Error opening the video file. Please double check your file path.\")\n",
    "else:\n",
    "    # While the video is opened\n",
    "    while cap.isOpened(): \n",
    "        # Read the video file\n",
    "        ret, frame = cap.read() \n",
    "        \n",
    "        # If a frame was successfully read\n",
    "        if ret:\n",
    "            # Display the frame at the same frame rate as the recording \n",
    "            time.sleep(1/fps) \n",
    "            cv2.imshow('frame', frame) \n",
    "            \n",
    "            # Press q to quit \n",
    "            if cv2.waitKey(25) & 0xFF == ord('q'):\n",
    "                break \n",
    "        else:\n",
    "            # If no frame was returned, break the loop (end of video)\n",
    "            break \n",
    "\n",
    "    # Release the video capture object\n",
    "    cap.release()\n",
    "\n",
    "    # Close all the frames\n",
    "    cv2.destroyAllWindows()\n"
   ]
  },
  {
   "cell_type": "code",
   "execution_count": null,
   "metadata": {},
   "outputs": [],
   "source": []
  }
 ],
 "metadata": {
  "kernelspec": {
   "display_name": "Python 3",
   "language": "python",
   "name": "python3"
  },
  "language_info": {
   "codemirror_mode": {
    "name": "ipython",
    "version": 3
   },
   "file_extension": ".py",
   "mimetype": "text/x-python",
   "name": "python",
   "nbconvert_exporter": "python",
   "pygments_lexer": "ipython3",
   "version": "3.6.6"
  },
  "varInspector": {
   "cols": {
    "lenName": 16,
    "lenType": 16,
    "lenVar": 40
   },
   "kernels_config": {
    "python": {
     "delete_cmd_postfix": "",
     "delete_cmd_prefix": "del ",
     "library": "var_list.py",
     "varRefreshCmd": "print(var_dic_list())"
    },
    "r": {
     "delete_cmd_postfix": ") ",
     "delete_cmd_prefix": "rm(",
     "library": "var_list.r",
     "varRefreshCmd": "cat(var_dic_list()) "
    }
   },
   "types_to_exclude": [
    "module",
    "function",
    "builtin_function_or_method",
    "instance",
    "_Feature"
   ],
   "window_display": false
  }
 },
 "nbformat": 4,
 "nbformat_minor": 2
}
